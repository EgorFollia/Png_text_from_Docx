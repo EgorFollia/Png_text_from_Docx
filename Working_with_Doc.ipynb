{
 "cells": [
  {
   "cell_type": "markdown",
   "metadata": {},
   "source": [
    "# Import libs"
   ]
  },
  {
   "cell_type": "code",
   "execution_count": 1,
   "metadata": {},
   "outputs": [],
   "source": [
    "import numpy as np\n",
    "import matplotlib.pyplot as plt\n",
    "import cv2\n",
    "import os, tempfile, glob\n",
    "from pdf2image import convert_from_path"
   ]
  },
  {
   "cell_type": "markdown",
   "metadata": {},
   "source": [
    "# PDF to PNG converter"
   ]
  },
  {
   "cell_type": "code",
   "execution_count": 2,
   "metadata": {},
   "outputs": [],
   "source": [
    "os.chdir(\"Data\")\n",
    "pdf_file = \"Questions.pdf\"\n",
    "\n",
    "with tempfile.TemporaryDirectory() as path_pdf:\n",
    "    imgs_pdf = convert_from_path(pdf_file, output_folder = path_pdf, last_page = 35, first_page = 0)\n",
    "\n",
    "if (not os.path.isdir(\"Images_from_PDF\")):\n",
    "    os.mkdir(\"Images_from_PDF\")\n",
    "\n",
    "imgs_dir = \"Images_from_PDF\"\n",
    "\n",
    "i = 1\n",
    "for page in imgs_pdf: \n",
    "    page.save(os.path.join(imgs_dir, \"Page_\" + str(i) + \".png\"), \"PNG\")\n",
    "    i += 1"
   ]
  },
  {
   "cell_type": "markdown",
   "metadata": {},
   "source": [
    "# Text extractor"
   ]
  },
  {
   "cell_type": "code",
   "execution_count": 3,
   "metadata": {},
   "outputs": [],
   "source": [
    "imgs_path = os.path.join(imgs_dir,'*g')\n",
    "\n",
    "imgs=[]\n",
    "for img in glob.glob(imgs_path):\n",
    "    imgs.append(img)"
   ]
  },
  {
   "cell_type": "code",
   "execution_count": 4,
   "metadata": {},
   "outputs": [],
   "source": [
    "if (not os.path.isdir(\"Images\")):\n",
    "    os.mkdir(\"Images\")\n",
    "\n",
    "iteration = 1\n",
    "for img in imgs:\n",
    "    image = cv2.imread(img, cv2.COLOR_BGR2GRAY) \n",
    "    \n",
    "    rows, cols, ch = image.shape\n",
    "\n",
    "    arr_pts=[]\n",
    "    for i in range(rows):\n",
    "        for j in range(cols):\n",
    "            if (image[i, j, 2] != 255 or image[i,j,1] != 255):\n",
    "                arr_pts.append((i, j))\n",
    "\n",
    "    array = np.array(arr_pts)\n",
    "    \n",
    "    x_min = np.amin(array[:, 0])\n",
    "    y_min = np.amin(array[:, 1])\n",
    "\n",
    "    x_max = np.amax(array[:, 0])\n",
    "    y_max = np.amax(array[:, 1])\n",
    "    \n",
    "    start_pt = (y_min, x_min)\n",
    "    end_pt = (y_max, x_max)\n",
    "\n",
    "    #img = cv2.rectangle(image, start_pt, end_pt, (0,0,0), -1)\n",
    "    img = image[x_min - 10:x_max + 20, y_min - 10:y_max + 20]\n",
    "\n",
    "    cv2.imwrite(\"Images/image_{}.png\".format(iteration), img)\n",
    "    iteration += 1"
   ]
  }
 ],
 "metadata": {
  "kernelspec": {
   "display_name": "Python 3",
   "language": "python",
   "name": "python3"
  },
  "language_info": {
   "codemirror_mode": {
    "name": "ipython",
    "version": 3
   },
   "file_extension": ".py",
   "mimetype": "text/x-python",
   "name": "python",
   "nbconvert_exporter": "python",
   "pygments_lexer": "ipython3",
   "version": "3.6.8"
  }
 },
 "nbformat": 4,
 "nbformat_minor": 2
}
